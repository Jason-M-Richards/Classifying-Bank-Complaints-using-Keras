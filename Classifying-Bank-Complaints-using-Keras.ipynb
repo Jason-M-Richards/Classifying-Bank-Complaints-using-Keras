{
 "cells": [
  {
   "cell_type": "markdown",
   "metadata": {},
   "source": [
    "## Load and Inspect Data"
   ]
  },
  {
   "cell_type": "code",
   "execution_count": 1,
   "metadata": {},
   "outputs": [
    {
     "name": "stderr",
     "output_type": "stream",
     "text": [
      "Using TensorFlow backend.\n"
     ]
    }
   ],
   "source": [
    "import matplotlib.pyplot as plt\n",
    "import pandas as pd\n",
    "import numpy as np\n",
    "import random\n",
    "from sklearn.model_selection import train_test_split\n",
    "from keras.utils.np_utils import to_categorical\n",
    "from sklearn import preprocessing\n",
    "from keras.preprocessing.text import Tokenizer\n",
    "from keras import models\n",
    "from keras import layers\n",
    "from keras import optimizers"
   ]
  },
  {
   "cell_type": "code",
   "execution_count": 2,
   "metadata": {},
   "outputs": [
    {
     "name": "stdout",
     "output_type": "stream",
     "text": [
      "<class 'pandas.core.frame.DataFrame'>\n",
      "RangeIndex: 60000 entries, 0 to 59999\n",
      "Data columns (total 2 columns):\n",
      "Product                         60000 non-null object\n",
      "Consumer complaint narrative    60000 non-null object\n",
      "dtypes: object(2)\n",
      "memory usage: 937.6+ KB\n",
      "None\n"
     ]
    },
    {
     "data": {
      "text/html": [
       "<div>\n",
       "<style scoped>\n",
       "    .dataframe tbody tr th:only-of-type {\n",
       "        vertical-align: middle;\n",
       "    }\n",
       "\n",
       "    .dataframe tbody tr th {\n",
       "        vertical-align: top;\n",
       "    }\n",
       "\n",
       "    .dataframe thead th {\n",
       "        text-align: right;\n",
       "    }\n",
       "</style>\n",
       "<table border=\"1\" class=\"dataframe\">\n",
       "  <thead>\n",
       "    <tr style=\"text-align: right;\">\n",
       "      <th></th>\n",
       "      <th>Product</th>\n",
       "      <th>Consumer complaint narrative</th>\n",
       "    </tr>\n",
       "  </thead>\n",
       "  <tbody>\n",
       "    <tr>\n",
       "      <th>0</th>\n",
       "      <td>Student loan</td>\n",
       "      <td>In XX/XX/XXXX I filled out the Fedlaon applica...</td>\n",
       "    </tr>\n",
       "    <tr>\n",
       "      <th>1</th>\n",
       "      <td>Student loan</td>\n",
       "      <td>I am being contacted by a debt collector for p...</td>\n",
       "    </tr>\n",
       "    <tr>\n",
       "      <th>2</th>\n",
       "      <td>Student loan</td>\n",
       "      <td>I cosigned XXXX student loans at SallieMae for...</td>\n",
       "    </tr>\n",
       "    <tr>\n",
       "      <th>3</th>\n",
       "      <td>Student loan</td>\n",
       "      <td>Navient has sytematically and illegally failed...</td>\n",
       "    </tr>\n",
       "    <tr>\n",
       "      <th>4</th>\n",
       "      <td>Student loan</td>\n",
       "      <td>My wife became eligible for XXXX Loan Forgiven...</td>\n",
       "    </tr>\n",
       "  </tbody>\n",
       "</table>\n",
       "</div>"
      ],
      "text/plain": [
       "        Product                       Consumer complaint narrative\n",
       "0  Student loan  In XX/XX/XXXX I filled out the Fedlaon applica...\n",
       "1  Student loan  I am being contacted by a debt collector for p...\n",
       "2  Student loan  I cosigned XXXX student loans at SallieMae for...\n",
       "3  Student loan  Navient has sytematically and illegally failed...\n",
       "4  Student loan  My wife became eligible for XXXX Loan Forgiven..."
      ]
     },
     "execution_count": 2,
     "metadata": {},
     "output_type": "execute_result"
    }
   ],
   "source": [
    "#load dataset and check information\n",
    "df = pd.read_csv('Bank_complaints.csv')\n",
    "print(df.info())\n",
    "df.head()"
   ]
  },
  {
   "cell_type": "code",
   "execution_count": 3,
   "metadata": {},
   "outputs": [
    {
     "data": {
      "text/plain": [
       "Student loan                   0.190067\n",
       "Credit card                    0.159000\n",
       "Consumer Loan                  0.157900\n",
       "Mortgage                       0.138867\n",
       "Bank account or service        0.138483\n",
       "Credit reporting               0.114400\n",
       "Checking or savings account    0.101283\n",
       "Name: Product, dtype: float64"
      ]
     },
     "execution_count": 3,
     "metadata": {},
     "output_type": "execute_result"
    }
   ],
   "source": [
    "#Preview what these categories are and what percent of the complaints each accounts for.\n",
    "df[\"Product\"].value_counts(normalize=True)"
   ]
  },
  {
   "cell_type": "markdown",
   "metadata": {},
   "source": [
    "## Preprocessing"
   ]
  },
  {
   "cell_type": "code",
   "execution_count": 4,
   "metadata": {},
   "outputs": [
    {
     "name": "stdout",
     "output_type": "stream",
     "text": [
      "sequences type: <class 'list'>\n",
      "one_hot_results type: <class 'numpy.ndarray'>\n",
      "Found 50334 unique tokens.\n",
      "Dimensions of our coded results: (60000, 2000)\n"
     ]
    }
   ],
   "source": [
    "\n",
    "complaints = df[\"Consumer complaint narrative\"] #Our raw text complaints\n",
    "\n",
    "tokenizer = Tokenizer(num_words=2000) #Initialize a tokenizer.\n",
    "\n",
    "tokenizer.fit_on_texts(complaints) #Fit it to the complaints\n",
    "\n",
    "sequences = tokenizer.texts_to_sequences(complaints) #Generate sequences\n",
    "print('sequences type:', type(sequences))\n",
    "\n",
    "one_hot_results= tokenizer.texts_to_matrix(complaints, mode='binary') #Similar to sequences, but returns a numpy array\n",
    "print('one_hot_results type:', type(one_hot_results))\n",
    "\n",
    "word_index = tokenizer.word_index #Useful if we wish to decode (more explanation below)\n",
    "\n",
    "print('Found %s unique tokens.' % len(word_index)) #Tokens are the number of unique words across the corpus\n",
    "\n",
    "\n",
    "print('Dimensions of our coded results:', np.shape(one_hot_results)) #Our coded data"
   ]
  },
  {
   "cell_type": "markdown",
   "metadata": {},
   "source": [
    "### Decode Word Vectors"
   ]
  },
  {
   "cell_type": "code",
   "execution_count": 5,
   "metadata": {},
   "outputs": [
    {
     "name": "stdout",
     "output_type": "stream",
     "text": [
      "Original complaint text:\n",
      "I have already filed several complaints about AES/PHEAA. I was notified by a XXXX XXXX let @ XXXX, who pretended to be from your office, he said he was from CFPB. I found out this morning he is n't from your office, but is actually works at XXXX. \r\n",
      "\r\n",
      "This has wasted weeks of my time. They AES/PHEAA confirmed and admitted ( see attached transcript of XXXX, conversation at XXXX ( XXXX ) with XXXX that proves they verified the loans are not mine ) the student loans they had XXXX, and collected on, and reported negate credit reporting in my name are in fact, not mine. \r\n",
      "They conclued their investigation on XXXX admitting they made a mistake and have my name on soneone elses loans. I these XXXX loans total {$10000.00}, original amount. My XXXX loans I got was total {$3500.00}. We proved by providing AES/PHEAA, this with my original promissary notes I located recently, the XXXX of my college provided AES/PHEAA with their original shoeinf amounts of my XXXX loans which show different dates and amounts, the dates and amounts are not even close to matching these loans they have in my name, The original lender, XXXX XXXX Bank notifying AES/PHEAA, they never issued me a student loan, and original Loan Guarantor, XXXX, notifying AES/PHEAA, they never were guarantor of my loans. \r\n",
      "\r\n",
      "XXXX straight forward. But today, this person, XXXX XXXX, told me they know these loans are not mine, and they refuse to remove my name off these XXXX loan 's and correct their mistake, essentially forcing me to pay these loans off, bucause in XXXX they sold the loans to XXXX loans. \r\n",
      "\r\n",
      "This is absurd, first protruding to be this office, and then refusing to correct their mistake. \r\n",
      "\r\n",
      "Please for the love of XXXX will soneone from your office call me at XXXX, today. I am a XXXX vet and they are knowingly discriminating against me. \r\n",
      "Pretending to be you.\n",
      "\n",
      "\n",
      "\n",
      "Decoded review from Tokenizer:\n",
      "i have already filed several complaints about aes i was notified by a xxxx xxxx let xxxx who to be from your office he said he was from cfpb i found out this morning he is n't from your office but is actually works at xxxx \r",
      " \r",
      " this has weeks of my time they aes confirmed and admitted see attached of xxxx conversation at xxxx xxxx with xxxx that they verified the loans are not mine the student loans they had xxxx and on and reported credit reporting in my name are in fact not mine \r",
      " they their investigation on xxxx they made a mistake and have my name on loans i these xxxx loans total 10000 00 original amount my xxxx loans i got was total 00 we by providing aes this with my original notes i located recently the xxxx of my college provided aes with their original amounts of my xxxx loans which show different dates and amounts the dates and amounts are not even close to these loans they have in my name the original lender xxxx xxxx bank notifying aes they never issued me a student loan and original loan xxxx notifying aes they never were of my loans \r",
      " \r",
      " xxxx forward but today this person xxxx xxxx told me they know these loans are not mine and they refuse to remove my name off these xxxx loan 's and correct their mistake essentially me to pay these loans off in xxxx they sold the loans to xxxx loans \r",
      " \r",
      " this is first to be this office and then refusing to correct their mistake \r",
      " \r",
      " please for the of xxxx will from your office call me at xxxx today i am a xxxx and they are against me \r",
      " to be you\n"
     ]
    }
   ],
   "source": [
    "#take the word_index dictionary object and change the orientation so that the values are keys and the keys values.\n",
    "reverse_index = dict([(value, key) for (key, value) in word_index.items()])\n",
    "\n",
    "comment_idx_to_preview = 19\n",
    "print('Original complaint text:')\n",
    "print(complaints[comment_idx_to_preview])\n",
    "print('\\n\\n')\n",
    "\n",
    "#The reverse_index cell block above must be complete in order for this cell block to successively execute.\n",
    "decoded_review = ' '.join([reverse_index.get(i) for i in sequences[comment_idx_to_preview]])\n",
    "print('Decoded review from Tokenizer:')\n",
    "print(decoded_review)"
   ]
  },
  {
   "cell_type": "markdown",
   "metadata": {},
   "source": [
    "### Converting descriptive categories into integers"
   ]
  },
  {
   "cell_type": "code",
   "execution_count": 6,
   "metadata": {},
   "outputs": [
    {
     "name": "stdout",
     "output_type": "stream",
     "text": [
      "Original class labels:\n",
      "['Bank account or service', 'Checking or savings account', 'Consumer Loan', 'Credit card', 'Credit reporting', 'Mortgage', 'Student loan']\n",
      "\n",
      "\n",
      "New product labels:\n",
      "[6 6 6 ... 4 4 4]\n",
      "\n",
      "\n",
      "One hot labels; 7 binary columns, one for each of the categories.\n",
      "[[0. 0. 0. ... 0. 0. 1.]\n",
      " [0. 0. 0. ... 0. 0. 1.]\n",
      " [0. 0. 0. ... 0. 0. 1.]\n",
      " ...\n",
      " [0. 0. 0. ... 1. 0. 0.]\n",
      " [0. 0. 0. ... 1. 0. 0.]\n",
      " [0. 0. 0. ... 1. 0. 0.]]\n",
      "\n",
      "\n",
      "One hot labels shape:\n",
      "(60000, 7)\n"
     ]
    }
   ],
   "source": [
    "product = df[\"Product\"]\n",
    "\n",
    "le = preprocessing.LabelEncoder() #Initialize. le used as abbreviation fo label encoder\n",
    "le.fit(product)\n",
    "print(\"Original class labels:\")\n",
    "print(list(le.classes_))\n",
    "print('\\n')\n",
    "product_cat = le.transform(product)  \n",
    "#list(le.inverse_transform([0, 1, 3, 3, 0, 6, 4])) #If you wish to retrieve the original descriptive labels post production\n",
    "\n",
    "print('New product labels:')\n",
    "print(product_cat)\n",
    "print('\\n')\n",
    "\n",
    "\n",
    "print('One hot labels; 7 binary columns, one for each of the categories.') #Each row will be all zeros except for the category for that observation.\n",
    "product_onehot = to_categorical(product_cat)\n",
    "print(product_onehot)\n",
    "print('\\n')\n",
    "\n",
    "print('One hot labels shape:')\n",
    "print(np.shape(product_onehot))"
   ]
  },
  {
   "cell_type": "markdown",
   "metadata": {},
   "source": [
    "### Train-Test-Split"
   ]
  },
  {
   "cell_type": "code",
   "execution_count": 7,
   "metadata": {},
   "outputs": [
    {
     "name": "stdout",
     "output_type": "stream",
     "text": [
      "Test label shape: (1500, 7)\n",
      "Train label shape: (58500, 7)\n",
      "Test shape: (1500, 2000)\n",
      "Train shape: (58500, 2000)\n"
     ]
    }
   ],
   "source": [
    "import random\n",
    "random.seed(123)\n",
    "test_index = random.sample(range(1,10000), 1500)\n",
    "\n",
    "test = one_hot_results[test_index]\n",
    "train = np.delete(one_hot_results, test_index, 0)\n",
    "\n",
    "\n",
    "label_test = product_onehot[test_index]\n",
    "label_train = np.delete(product_onehot, test_index, 0)\n",
    "\n",
    "print(\"Test label shape:\", np.shape(label_test))\n",
    "print(\"Train label shape:\", np.shape(label_train))\n",
    "print(\"Test shape:\", np.shape(test))\n",
    "print(\"Train shape:\", np.shape(train))"
   ]
  },
  {
   "cell_type": "markdown",
   "metadata": {},
   "source": [
    "## Build the Network"
   ]
  },
  {
   "cell_type": "code",
   "execution_count": 8,
   "metadata": {},
   "outputs": [
    {
     "name": "stderr",
     "output_type": "stream",
     "text": [
      "WARNING: Logging before flag parsing goes to stderr.\n",
      "W0729 14:19:20.775537   740 deprecation_wrapper.py:119] From C:\\Users\\perso\\Anaconda3\\envs\\learn-env\\lib\\site-packages\\keras\\backend\\tensorflow_backend.py:74: The name tf.get_default_graph is deprecated. Please use tf.compat.v1.get_default_graph instead.\n",
      "\n",
      "W0729 14:19:24.199692   740 deprecation_wrapper.py:119] From C:\\Users\\perso\\Anaconda3\\envs\\learn-env\\lib\\site-packages\\keras\\backend\\tensorflow_backend.py:517: The name tf.placeholder is deprecated. Please use tf.compat.v1.placeholder instead.\n",
      "\n",
      "W0729 14:19:24.635709   740 deprecation_wrapper.py:119] From C:\\Users\\perso\\Anaconda3\\envs\\learn-env\\lib\\site-packages\\keras\\backend\\tensorflow_backend.py:4138: The name tf.random_uniform is deprecated. Please use tf.random.uniform instead.\n",
      "\n"
     ]
    }
   ],
   "source": [
    "model = models.Sequential()#instantiate model design\n",
    "model.add(layers.Dense(50, activation='relu', input_shape=(2000,))) #1st hidden layer\n",
    "model.add(layers.Dense(25, activation='relu'))#2nd hidden layer\n",
    "model.add(layers.Dense(7, activation='softmax'))#output layer - softmax will reyurn probability between 0-1"
   ]
  },
  {
   "cell_type": "markdown",
   "metadata": {},
   "source": [
    "## Compiling the Model"
   ]
  },
  {
   "cell_type": "code",
   "execution_count": 9,
   "metadata": {},
   "outputs": [
    {
     "name": "stderr",
     "output_type": "stream",
     "text": [
      "W0729 14:21:56.845247   740 deprecation_wrapper.py:119] From C:\\Users\\perso\\Anaconda3\\envs\\learn-env\\lib\\site-packages\\keras\\optimizers.py:790: The name tf.train.Optimizer is deprecated. Please use tf.compat.v1.train.Optimizer instead.\n",
      "\n",
      "W0729 14:21:57.499509   740 deprecation_wrapper.py:119] From C:\\Users\\perso\\Anaconda3\\envs\\learn-env\\lib\\site-packages\\keras\\backend\\tensorflow_backend.py:3295: The name tf.log is deprecated. Please use tf.math.log instead.\n",
      "\n"
     ]
    }
   ],
   "source": [
    "model.compile(optimizer='SGD', #stochastic gradient descent\n",
    "              loss='categorical_crossentropy', #loss function\n",
    "              metrics=['accuracy']) #metric determined"
   ]
  },
  {
   "cell_type": "markdown",
   "metadata": {},
   "source": [
    "## Training the Model"
   ]
  },
  {
   "cell_type": "code",
   "execution_count": 10,
   "metadata": {},
   "outputs": [
    {
     "name": "stderr",
     "output_type": "stream",
     "text": [
      "W0729 14:22:46.185747   740 deprecation.py:323] From C:\\Users\\perso\\Anaconda3\\envs\\learn-env\\lib\\site-packages\\tensorflow\\python\\ops\\math_grad.py:1250: add_dispatch_support.<locals>.wrapper (from tensorflow.python.ops.array_ops) is deprecated and will be removed in a future version.\n",
      "Instructions for updating:\n",
      "Use tf.where in 2.0, which has the same broadcast rule as np.where\n",
      "W0729 14:22:46.239639   740 deprecation_wrapper.py:119] From C:\\Users\\perso\\Anaconda3\\envs\\learn-env\\lib\\site-packages\\keras\\backend\\tensorflow_backend.py:986: The name tf.assign_add is deprecated. Please use tf.compat.v1.assign_add instead.\n",
      "\n"
     ]
    },
    {
     "name": "stdout",
     "output_type": "stream",
     "text": [
      "Epoch 1/120\n",
      "58500/58500 [==============================] - 3s 47us/step - loss: 1.8559 - acc: 0.2633\n",
      "Epoch 2/120\n",
      "58500/58500 [==============================] - 2s 29us/step - loss: 1.5373 - acc: 0.4997\n",
      "Epoch 3/120\n",
      "58500/58500 [==============================] - 2s 29us/step - loss: 1.1523 - acc: 0.6423\n",
      "Epoch 4/120\n",
      "58500/58500 [==============================] - 2s 29us/step - loss: 0.9189 - acc: 0.6955\n",
      "Epoch 5/120\n",
      "58500/58500 [==============================] - 2s 28us/step - loss: 0.7989 - acc: 0.7223\n",
      "Epoch 6/120\n",
      "58500/58500 [==============================] - 2s 30us/step - loss: 0.7312 - acc: 0.7389\n",
      "Epoch 7/120\n",
      "58500/58500 [==============================] - 2s 29us/step - loss: 0.6873 - acc: 0.7514\n",
      "Epoch 8/120\n",
      "58500/58500 [==============================] - 2s 28us/step - loss: 0.6556 - acc: 0.7618\n",
      "Epoch 9/120\n",
      "58500/58500 [==============================] - 2s 29us/step - loss: 0.6310 - acc: 0.7703\n",
      "Epoch 10/120\n",
      "58500/58500 [==============================] - 2s 30us/step - loss: 0.6110 - acc: 0.7779\n",
      "Epoch 11/120\n",
      "58500/58500 [==============================] - 2s 31us/step - loss: 0.5939 - acc: 0.7839\n",
      "Epoch 12/120\n",
      "58500/58500 [==============================] - 2s 30us/step - loss: 0.5793 - acc: 0.7895: \n",
      "Epoch 13/120\n",
      "58500/58500 [==============================] - 2s 28us/step - loss: 0.5666 - acc: 0.7949\n",
      "Epoch 14/120\n",
      "58500/58500 [==============================] - 2s 28us/step - loss: 0.5552 - acc: 0.7990\n",
      "Epoch 15/120\n",
      "58500/58500 [==============================] - 2s 26us/step - loss: 0.5449 - acc: 0.8037\n",
      "Epoch 16/120\n",
      "58500/58500 [==============================] - 2s 26us/step - loss: 0.5356 - acc: 0.8078\n",
      "Epoch 17/120\n",
      "58500/58500 [==============================] - 2s 26us/step - loss: 0.5271 - acc: 0.8099\n",
      "Epoch 18/120\n",
      "58500/58500 [==============================] - 2s 26us/step - loss: 0.5194 - acc: 0.8135\n",
      "Epoch 19/120\n",
      "58500/58500 [==============================] - 1s 25us/step - loss: 0.5119 - acc: 0.8164\n",
      "Epoch 20/120\n",
      "58500/58500 [==============================] - 1s 25us/step - loss: 0.5054 - acc: 0.8184\n",
      "Epoch 21/120\n",
      "58500/58500 [==============================] - 1s 25us/step - loss: 0.4994 - acc: 0.8221\n",
      "Epoch 22/120\n",
      "58500/58500 [==============================] - 1s 26us/step - loss: 0.4933 - acc: 0.8242\n",
      "Epoch 23/120\n",
      "58500/58500 [==============================] - 1s 25us/step - loss: 0.4880 - acc: 0.8261\n",
      "Epoch 24/120\n",
      "58500/58500 [==============================] - 2s 27us/step - loss: 0.4831 - acc: 0.8280\n",
      "Epoch 25/120\n",
      "58500/58500 [==============================] - 2s 27us/step - loss: 0.4783 - acc: 0.8287\n",
      "Epoch 26/120\n",
      "58500/58500 [==============================] - 2s 26us/step - loss: 0.4736 - acc: 0.8326\n",
      "Epoch 27/120\n",
      "58500/58500 [==============================] - 2s 26us/step - loss: 0.4698 - acc: 0.8335\n",
      "Epoch 28/120\n",
      "58500/58500 [==============================] - 2s 27us/step - loss: 0.4657 - acc: 0.8351\n",
      "Epoch 29/120\n",
      "58500/58500 [==============================] - 2s 29us/step - loss: 0.4619 - acc: 0.8357\n",
      "Epoch 30/120\n",
      "58500/58500 [==============================] - 2s 30us/step - loss: 0.4582 - acc: 0.8369\n",
      "Epoch 31/120\n",
      "58500/58500 [==============================] - 2s 29us/step - loss: 0.4544 - acc: 0.8393\n",
      "Epoch 32/120\n",
      "58500/58500 [==============================] - 2s 29us/step - loss: 0.4512 - acc: 0.8403\n",
      "Epoch 33/120\n",
      "58500/58500 [==============================] - 2s 30us/step - loss: 0.4481 - acc: 0.8410\n",
      "Epoch 34/120\n",
      "58500/58500 [==============================] - 2s 29us/step - loss: 0.4452 - acc: 0.8426\n",
      "Epoch 35/120\n",
      "58500/58500 [==============================] - 2s 29us/step - loss: 0.4422 - acc: 0.8431\n",
      "Epoch 36/120\n",
      "58500/58500 [==============================] - 2s 30us/step - loss: 0.4392 - acc: 0.8451\n",
      "Epoch 37/120\n",
      "58500/58500 [==============================] - 2s 32us/step - loss: 0.4369 - acc: 0.8461\n",
      "Epoch 38/120\n",
      "58500/58500 [==============================] - 2s 30us/step - loss: 0.4342 - acc: 0.8467\n",
      "Epoch 39/120\n",
      "58500/58500 [==============================] - 2s 30us/step - loss: 0.4317 - acc: 0.8476\n",
      "Epoch 40/120\n",
      "58500/58500 [==============================] - 2s 31us/step - loss: 0.4289 - acc: 0.8486\n",
      "Epoch 41/120\n",
      "58500/58500 [==============================] - 2s 31us/step - loss: 0.4265 - acc: 0.8494\n",
      "Epoch 42/120\n",
      "58500/58500 [==============================] - 2s 31us/step - loss: 0.4246 - acc: 0.8504\n",
      "Epoch 43/120\n",
      "58500/58500 [==============================] - 2s 31us/step - loss: 0.4222 - acc: 0.8511\n",
      "Epoch 44/120\n",
      "58500/58500 [==============================] - 2s 27us/step - loss: 0.4200 - acc: 0.8521\n",
      "Epoch 45/120\n",
      "58500/58500 [==============================] - 2s 28us/step - loss: 0.4179 - acc: 0.8526\n",
      "Epoch 46/120\n",
      "58500/58500 [==============================] - 2s 27us/step - loss: 0.4160 - acc: 0.8533\n",
      "Epoch 47/120\n",
      "58500/58500 [==============================] - 2s 27us/step - loss: 0.4139 - acc: 0.8544\n",
      "Epoch 48/120\n",
      "58500/58500 [==============================] - 2s 32us/step - loss: 0.4119 - acc: 0.8552\n",
      "Epoch 49/120\n",
      "58500/58500 [==============================] - 2s 32us/step - loss: 0.4102 - acc: 0.8561\n",
      "Epoch 50/120\n",
      "58500/58500 [==============================] - 2s 31us/step - loss: 0.4082 - acc: 0.8567\n",
      "Epoch 51/120\n",
      "58500/58500 [==============================] - 2s 32us/step - loss: 0.4067 - acc: 0.8570\n",
      "Epoch 52/120\n",
      "58500/58500 [==============================] - 2s 32us/step - loss: 0.4051 - acc: 0.8574\n",
      "Epoch 53/120\n",
      "58500/58500 [==============================] - 2s 29us/step - loss: 0.4031 - acc: 0.8576\n",
      "Epoch 54/120\n",
      "58500/58500 [==============================] - 2s 27us/step - loss: 0.4015 - acc: 0.8584\n",
      "Epoch 55/120\n",
      "58500/58500 [==============================] - 2s 28us/step - loss: 0.3999 - acc: 0.8594\n",
      "Epoch 56/120\n",
      "58500/58500 [==============================] - 2s 31us/step - loss: 0.3982 - acc: 0.8596\n",
      "Epoch 57/120\n",
      "58500/58500 [==============================] - 2s 31us/step - loss: 0.3967 - acc: 0.8598\n",
      "Epoch 58/120\n",
      "58500/58500 [==============================] - 2s 31us/step - loss: 0.3950 - acc: 0.8615\n",
      "Epoch 59/120\n",
      "58500/58500 [==============================] - 2s 32us/step - loss: 0.3937 - acc: 0.8611\n",
      "Epoch 60/120\n",
      "58500/58500 [==============================] - 2s 32us/step - loss: 0.3920 - acc: 0.8615\n",
      "Epoch 61/120\n",
      "58500/58500 [==============================] - 2s 31us/step - loss: 0.3907 - acc: 0.8621\n",
      "Epoch 62/120\n",
      "58500/58500 [==============================] - 2s 31us/step - loss: 0.3896 - acc: 0.8625\n",
      "Epoch 63/120\n",
      "58500/58500 [==============================] - 2s 31us/step - loss: 0.3879 - acc: 0.8633\n",
      "Epoch 64/120\n",
      "58500/58500 [==============================] - 2s 30us/step - loss: 0.3865 - acc: 0.8632\n",
      "Epoch 65/120\n",
      "58500/58500 [==============================] - 2s 30us/step - loss: 0.3854 - acc: 0.8635\n",
      "Epoch 66/120\n",
      "58500/58500 [==============================] - 2s 32us/step - loss: 0.3838 - acc: 0.8642\n",
      "Epoch 67/120\n",
      "58500/58500 [==============================] - 2s 32us/step - loss: 0.3824 - acc: 0.8646\n",
      "Epoch 68/120\n",
      "58500/58500 [==============================] - 2s 32us/step - loss: 0.3817 - acc: 0.8648\n",
      "Epoch 69/120\n",
      "58500/58500 [==============================] - 2s 32us/step - loss: 0.3808 - acc: 0.8657\n",
      "Epoch 70/120\n",
      "58500/58500 [==============================] - 2s 31us/step - loss: 0.3789 - acc: 0.8657\n",
      "Epoch 71/120\n",
      "58500/58500 [==============================] - 2s 32us/step - loss: 0.3778 - acc: 0.8674\n",
      "Epoch 72/120\n",
      "58500/58500 [==============================] - 2s 31us/step - loss: 0.3766 - acc: 0.8669\n",
      "Epoch 73/120\n",
      "58500/58500 [==============================] - 2s 32us/step - loss: 0.3753 - acc: 0.8675\n",
      "Epoch 74/120\n",
      "58500/58500 [==============================] - 2s 31us/step - loss: 0.3745 - acc: 0.8666\n",
      "Epoch 75/120\n",
      "58500/58500 [==============================] - 2s 31us/step - loss: 0.3733 - acc: 0.8683\n",
      "Epoch 76/120\n",
      "58500/58500 [==============================] - 2s 31us/step - loss: 0.3721 - acc: 0.8684\n",
      "Epoch 77/120\n",
      "58500/58500 [==============================] - 2s 31us/step - loss: 0.3708 - acc: 0.8680\n",
      "Epoch 78/120\n",
      "58500/58500 [==============================] - 2s 32us/step - loss: 0.3699 - acc: 0.8691\n",
      "Epoch 79/120\n",
      "58500/58500 [==============================] - 2s 32us/step - loss: 0.3686 - acc: 0.8694\n",
      "Epoch 80/120\n",
      "58500/58500 [==============================] - 2s 31us/step - loss: 0.3678 - acc: 0.8694\n",
      "Epoch 81/120\n"
     ]
    },
    {
     "name": "stdout",
     "output_type": "stream",
     "text": [
      "58500/58500 [==============================] - 2s 31us/step - loss: 0.3666 - acc: 0.8703\n",
      "Epoch 82/120\n",
      "58500/58500 [==============================] - 2s 28us/step - loss: 0.3657 - acc: 0.8700\n",
      "Epoch 83/120\n",
      "58500/58500 [==============================] - 2s 27us/step - loss: 0.3646 - acc: 0.8709\n",
      "Epoch 84/120\n",
      "58500/58500 [==============================] - 2s 28us/step - loss: 0.3635 - acc: 0.8704\n",
      "Epoch 85/120\n",
      "58500/58500 [==============================] - 2s 27us/step - loss: 0.3623 - acc: 0.8727\n",
      "Epoch 86/120\n",
      "58500/58500 [==============================] - 2s 27us/step - loss: 0.3614 - acc: 0.8716\n",
      "Epoch 87/120\n",
      "58500/58500 [==============================] - 2s 28us/step - loss: 0.3603 - acc: 0.8716\n",
      "Epoch 88/120\n",
      "58500/58500 [==============================] - 2s 27us/step - loss: 0.3593 - acc: 0.8737\n",
      "Epoch 89/120\n",
      "58500/58500 [==============================] - 2s 27us/step - loss: 0.3583 - acc: 0.8731\n",
      "Epoch 90/120\n",
      "58500/58500 [==============================] - 2s 29us/step - loss: 0.3577 - acc: 0.8738\n",
      "Epoch 91/120\n",
      "58500/58500 [==============================] - 2s 28us/step - loss: 0.3569 - acc: 0.8730\n",
      "Epoch 92/120\n",
      "58500/58500 [==============================] - 2s 27us/step - loss: 0.3554 - acc: 0.8750\n",
      "Epoch 93/120\n",
      "58500/58500 [==============================] - 2s 27us/step - loss: 0.3548 - acc: 0.8740\n",
      "Epoch 94/120\n",
      "58500/58500 [==============================] - 2s 29us/step - loss: 0.3537 - acc: 0.8753\n",
      "Epoch 95/120\n",
      "58500/58500 [==============================] - 2s 29us/step - loss: 0.3529 - acc: 0.8746\n",
      "Epoch 96/120\n",
      "58500/58500 [==============================] - 2s 31us/step - loss: 0.3518 - acc: 0.8755\n",
      "Epoch 97/120\n",
      "58500/58500 [==============================] - 2s 29us/step - loss: 0.3510 - acc: 0.8757\n",
      "Epoch 98/120\n",
      "58500/58500 [==============================] - 2s 29us/step - loss: 0.3500 - acc: 0.8761\n",
      "Epoch 99/120\n",
      "58500/58500 [==============================] - 2s 29us/step - loss: 0.3491 - acc: 0.8772\n",
      "Epoch 100/120\n",
      "58500/58500 [==============================] - 2s 29us/step - loss: 0.3482 - acc: 0.8770\n",
      "Epoch 101/120\n",
      "58500/58500 [==============================] - 2s 29us/step - loss: 0.3474 - acc: 0.8775\n",
      "Epoch 102/120\n",
      "58500/58500 [==============================] - 2s 31us/step - loss: 0.3459 - acc: 0.8776\n",
      "Epoch 103/120\n",
      "58500/58500 [==============================] - 2s 30us/step - loss: 0.3451 - acc: 0.8786\n",
      "Epoch 104/120\n",
      "58500/58500 [==============================] - 2s 28us/step - loss: 0.3446 - acc: 0.8782\n",
      "Epoch 105/120\n",
      "58500/58500 [==============================] - 2s 28us/step - loss: 0.3437 - acc: 0.8788\n",
      "Epoch 106/120\n",
      "58500/58500 [==============================] - 2s 27us/step - loss: 0.3428 - acc: 0.8791\n",
      "Epoch 107/120\n",
      "58500/58500 [==============================] - 2s 30us/step - loss: 0.3417 - acc: 0.8796\n",
      "Epoch 108/120\n",
      "58500/58500 [==============================] - 2s 30us/step - loss: 0.3408 - acc: 0.8801\n",
      "Epoch 109/120\n",
      "58500/58500 [==============================] - 2s 29us/step - loss: 0.3398 - acc: 0.8798\n",
      "Epoch 110/120\n",
      "58500/58500 [==============================] - 2s 30us/step - loss: 0.3392 - acc: 0.8798\n",
      "Epoch 111/120\n",
      "58500/58500 [==============================] - 2s 30us/step - loss: 0.3381 - acc: 0.8813\n",
      "Epoch 112/120\n",
      "58500/58500 [==============================] - 2s 30us/step - loss: 0.3373 - acc: 0.8814\n",
      "Epoch 113/120\n",
      "58500/58500 [==============================] - 2s 31us/step - loss: 0.3366 - acc: 0.8812\n",
      "Epoch 114/120\n",
      "58500/58500 [==============================] - 2s 32us/step - loss: 0.3356 - acc: 0.8810\n",
      "Epoch 115/120\n",
      "58500/58500 [==============================] - 2s 29us/step - loss: 0.3348 - acc: 0.8817\n",
      "Epoch 116/120\n",
      "58500/58500 [==============================] - 2s 27us/step - loss: 0.3337 - acc: 0.8815\n",
      "Epoch 117/120\n",
      "58500/58500 [==============================] - 2s 27us/step - loss: 0.3331 - acc: 0.8819\n",
      "Epoch 118/120\n",
      "58500/58500 [==============================] - 2s 27us/step - loss: 0.3321 - acc: 0.8828\n",
      "Epoch 119/120\n",
      "58500/58500 [==============================] - 2s 27us/step - loss: 0.3310 - acc: 0.8836\n",
      "Epoch 120/120\n",
      "58500/58500 [==============================] - 2s 28us/step - loss: 0.3305 - acc: 0.8832\n"
     ]
    }
   ],
   "source": [
    "history = model.fit(train,\n",
    "                    label_train,\n",
    "                    epochs=120,\n",
    "                    batch_size=256)"
   ]
  },
  {
   "cell_type": "markdown",
   "metadata": {},
   "source": [
    "### Look at History"
   ]
  },
  {
   "cell_type": "code",
   "execution_count": 11,
   "metadata": {},
   "outputs": [
    {
     "data": {
      "text/plain": [
       "dict_keys(['loss', 'acc'])"
      ]
     },
     "execution_count": 11,
     "metadata": {},
     "output_type": "execute_result"
    }
   ],
   "source": [
    "history_dict = history.history\n",
    "history_dict.keys()"
   ]
  },
  {
   "cell_type": "markdown",
   "metadata": {},
   "source": [
    "## Plot training results"
   ]
  },
  {
   "cell_type": "code",
   "execution_count": 12,
   "metadata": {},
   "outputs": [
    {
     "data": {
      "image/png": "[encoded data removed]",
      "text/plain": [
       "<Figure size 432x288 with 1 Axes>"
      ]
     },
     "metadata": {
      "needs_background": "light"
     },
     "output_type": "display_data"
    }
   ],
   "source": [
    "history_dict = history.history\n",
    "loss_values = history_dict['loss']\n",
    "\n",
    "epochs = range(1, len(loss_values) + 1)\n",
    "plt.plot(epochs, loss_values, 'g', label='Training loss')\n",
    "\n",
    "plt.title('Training loss')\n",
    "plt.xlabel('Epochs')\n",
    "plt.ylabel('Loss')\n",
    "plt.legend()\n",
    "plt.show()"
   ]
  },
  {
   "cell_type": "code",
   "execution_count": 13,
   "metadata": {},
   "outputs": [
    {
     "data": {
      "image/png": "[encoded data removed]",
      "text/plain": [
       "<Figure size 432x288 with 1 Axes>"
      ]
     },
     "metadata": {
      "needs_background": "light"
     },
     "output_type": "display_data"
    }
   ],
   "source": [
    "acc_values = history_dict['acc'] \n",
    "\n",
    "plt.plot(epochs, acc_values, 'r', label='Training acc')\n",
    "plt.title('Training accuracy')\n",
    "plt.xlabel('Epochs')\n",
    "plt.ylabel('Loss')\n",
    "plt.legend()\n",
    "plt.show()"
   ]
  },
  {
   "cell_type": "markdown",
   "metadata": {},
   "source": [
    "## Make predictions"
   ]
  },
  {
   "cell_type": "code",
   "execution_count": 14,
   "metadata": {},
   "outputs": [],
   "source": [
    "y_hat_test = model.predict(test) #Output (probability) predictions for the test set."
   ]
  },
  {
   "cell_type": "markdown",
   "metadata": {},
   "source": [
    "## Evaluate Performance"
   ]
  },
  {
   "cell_type": "code",
   "execution_count": 15,
   "metadata": {},
   "outputs": [
    {
     "name": "stdout",
     "output_type": "stream",
     "text": [
      "58500/58500 [==============================] - 1s 22us/step\n"
     ]
    },
    {
     "data": {
      "text/plain": [
       "[0.324629505378823, 0.8855042735042735]"
      ]
     },
     "execution_count": 15,
     "metadata": {},
     "output_type": "execute_result"
    }
   ],
   "source": [
    "results_train = model.evaluate(train, label_train)\n",
    "results_train"
   ]
  },
  {
   "cell_type": "code",
   "execution_count": 16,
   "metadata": {},
   "outputs": [
    {
     "name": "stdout",
     "output_type": "stream",
     "text": [
      "1500/1500 [==============================] - 0s 28us/step\n"
     ]
    },
    {
     "data": {
      "text/plain": [
       "[0.27032812587420146, 0.9220000004768372]"
      ]
     },
     "execution_count": 16,
     "metadata": {},
     "output_type": "execute_result"
    }
   ],
   "source": [
    "results_test = model.evaluate(test, label_test)\n",
    "results_test"
   ]
  },
  {
   "cell_type": "markdown",
   "metadata": {},
   "source": [
    "## Results\n",
    "\n",
    "The model provided was able to predict the test set with ~92% accuracy. "
   ]
  }
 ],
 "metadata": {
  "kernelspec": {
   "display_name": "learn-env",
   "language": "python",
   "name": "learn-env"
  },
  "language_info": {
   "codemirror_mode": {
    "name": "ipython",
    "version": 3
   },
   "file_extension": ".py",
   "mimetype": "text/x-python",
   "name": "python",
   "nbconvert_exporter": "python",
   "pygments_lexer": "ipython3",
   "version": "3.6.6"
  },
  "toc": {
   "base_numbering": 1,
   "nav_menu": {},
   "number_sections": true,
   "sideBar": true,
   "skip_h1_title": false,
   "title_cell": "Table of Contents",
   "title_sidebar": "Contents",
   "toc_cell": false,
   "toc_position": {},
   "toc_section_display": true,
   "toc_window_display": true
  }
 },
 "nbformat": 4,
 "nbformat_minor": 2
}
