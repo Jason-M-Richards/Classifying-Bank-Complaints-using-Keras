{
 "cells": [
  {
   "cell_type": "markdown",
   "metadata": {},
   "source": [
    "## Load and Inspect Data"
   ]
  },
  {
   "cell_type": "code",
   "execution_count": 1,
   "metadata": {},
   "outputs": [
    {
     "name": "stderr",
     "output_type": "stream",
     "text": [
      "Using TensorFlow backend.\n"
     ]
    }
   ],
   "source": [
    "import matplotlib.pyplot as plt\n",
    "import pandas as pd\n",
    "import numpy as np\n",
    "import random\n",
    "from sklearn.model_selection import train_test_split\n",
    "from keras.utils.np_utils import to_categorical\n",
    "from sklearn import preprocessing\n",
    "from keras.preprocessing.text import Tokenizer\n",
    "from keras import models\n",
    "from keras import layers\n",
    "from keras import optimizers"
   ]
  },
  {
   "cell_type": "code",
   "execution_count": 2,
   "metadata": {},
   "outputs": [
    {
     "name": "stdout",
     "output_type": "stream",
     "text": [
      "<class 'pandas.core.frame.DataFrame'>\n",
      "RangeIndex: 60000 entries, 0 to 59999\n",
      "Data columns (total 2 columns):\n",
      "Product                         60000 non-null object\n",
      "Consumer complaint narrative    60000 non-null object\n",
      "dtypes: object(2)\n",
      "memory usage: 937.6+ KB\n",
      "None\n"
     ]
    },
    {
     "data": {
      "text/html": [
       "<div>\n",
       "<style scoped>\n",
       "    .dataframe tbody tr th:only-of-type {\n",
       "        vertical-align: middle;\n",
       "    }\n",
       "\n",
       "    .dataframe tbody tr th {\n",
       "        vertical-align: top;\n",
       "    }\n",
       "\n",
       "    .dataframe thead th {\n",
       "        text-align: right;\n",
       "    }\n",
       "</style>\n",
       "<table border=\"1\" class=\"dataframe\">\n",
       "  <thead>\n",
       "    <tr style=\"text-align: right;\">\n",
       "      <th></th>\n",
       "      <th>Product</th>\n",
       "      <th>Consumer complaint narrative</th>\n",
       "    </tr>\n",
       "  </thead>\n",
       "  <tbody>\n",
       "    <tr>\n",
       "      <th>0</th>\n",
       "      <td>Student loan</td>\n",
       "      <td>In XX/XX/XXXX I filled out the Fedlaon applica...</td>\n",
       "    </tr>\n",
       "    <tr>\n",
       "      <th>1</th>\n",
       "      <td>Student loan</td>\n",
       "      <td>I am being contacted by a debt collector for p...</td>\n",
       "    </tr>\n",
       "    <tr>\n",
       "      <th>2</th>\n",
       "      <td>Student loan</td>\n",
       "      <td>I cosigned XXXX student loans at SallieMae for...</td>\n",
       "    </tr>\n",
       "    <tr>\n",
       "      <th>3</th>\n",
       "      <td>Student loan</td>\n",
       "      <td>Navient has sytematically and illegally failed...</td>\n",
       "    </tr>\n",
       "    <tr>\n",
       "      <th>4</th>\n",
       "      <td>Student loan</td>\n",
       "      <td>My wife became eligible for XXXX Loan Forgiven...</td>\n",
       "    </tr>\n",
       "  </tbody>\n",
       "</table>\n",
       "</div>"
      ],
      "text/plain": [
       "        Product                       Consumer complaint narrative\n",
       "0  Student loan  In XX/XX/XXXX I filled out the Fedlaon applica...\n",
       "1  Student loan  I am being contacted by a debt collector for p...\n",
       "2  Student loan  I cosigned XXXX student loans at SallieMae for...\n",
       "3  Student loan  Navient has sytematically and illegally failed...\n",
       "4  Student loan  My wife became eligible for XXXX Loan Forgiven..."
      ]
     },
     "execution_count": 2,
     "metadata": {},
     "output_type": "execute_result"
    }
   ],
   "source": [
    "#load dataset and check information\n",
    "df = pd.read_csv('Bank_complaints.csv')\n",
    "print(df.info())\n",
    "df.head()"
   ]
  },
  {
   "cell_type": "code",
   "execution_count": 3,
   "metadata": {},
   "outputs": [
    {
     "data": {
      "text/plain": [
       "Student loan                   0.190067\n",
       "Credit card                    0.159000\n",
       "Consumer Loan                  0.157900\n",
       "Mortgage                       0.138867\n",
       "Bank account or service        0.138483\n",
       "Credit reporting               0.114400\n",
       "Checking or savings account    0.101283\n",
       "Name: Product, dtype: float64"
      ]
     },
     "execution_count": 3,
     "metadata": {},
     "output_type": "execute_result"
    }
   ],
   "source": [
    "#Preview what these categories are and what percent of the complaints each accounts for.\n",
    "df[\"Product\"].value_counts(normalize=True)"
   ]
  },
  {
   "cell_type": "code",
   "execution_count": null,
   "metadata": {},
   "outputs": [],
   "source": []
  },
  {
   "cell_type": "code",
   "execution_count": 7,
   "metadata": {},
   "outputs": [],
   "source": [
    "#setting aside 40000 samples\n",
    "random.seed(123)\n",
    "df = df.sample(40000)\n",
    "df.index = range(40000)\n",
    "product = df[\"Product\"]\n",
    "complaints = df[\"Consumer complaint narrative\"]"
   ]
  },
  {
   "cell_type": "markdown",
   "metadata": {},
   "source": [
    "## Preprocessing"
   ]
  },
  {
   "cell_type": "code",
   "execution_count": 8,
   "metadata": {},
   "outputs": [
    {
     "data": {
      "text/plain": [
       "(40000, 2000)"
      ]
     },
     "execution_count": 8,
     "metadata": {},
     "output_type": "execute_result"
    }
   ],
   "source": [
    "tokenizer = Tokenizer(num_words=2000)\n",
    "tokenizer.fit_on_texts(complaints)\n",
    "\n",
    "one_hot_results= tokenizer.texts_to_matrix(complaints, mode='binary')\n",
    "word_index = tokenizer.word_index\n",
    "np.shape(one_hot_results)"
   ]
  },
  {
   "cell_type": "markdown",
   "metadata": {},
   "source": [
    "### Decode Word Vectors"
   ]
  },
  {
   "cell_type": "code",
   "execution_count": 9,
   "metadata": {},
   "outputs": [],
   "source": [
    "#transform the product labels to numerical values\n",
    "le = preprocessing.LabelEncoder()\n",
    "le.fit(product)\n",
    "product_cat = le.transform(product) \n",
    "\n",
    "#Then transform these integer values into a matrix of binary flags\n",
    "product_onehot = to_categorical(product_cat)"
   ]
  },
  {
   "cell_type": "markdown",
   "metadata": {},
   "source": [
    "### Train-Test-Split"
   ]
  },
  {
   "cell_type": "code",
   "execution_count": 10,
   "metadata": {
    "scrolled": true
   },
   "outputs": [],
   "source": [
    "X_train, X_test, y_train, y_test = train_test_split(one_hot_results, product_onehot, test_size=5000, random_state=42)"
   ]
  },
  {
   "cell_type": "markdown",
   "metadata": {},
   "source": [
    "#### Validation Set"
   ]
  },
  {
   "cell_type": "code",
   "execution_count": 11,
   "metadata": {},
   "outputs": [],
   "source": [
    "random.seed(123)\n",
    "val = X_train[:10000]\n",
    "train_final = X_train[10000:]\n",
    "label_val = y_train[:10000]\n",
    "label_train_final = y_train[10000:]"
   ]
  },
  {
   "cell_type": "markdown",
   "metadata": {},
   "source": [
    "## Build the Network"
   ]
  },
  {
   "cell_type": "code",
   "execution_count": 13,
   "metadata": {},
   "outputs": [
    {
     "name": "stderr",
     "output_type": "stream",
     "text": [
      "W0730 14:12:41.632927 11488 deprecation_wrapper.py:119] From C:\\Users\\perso\\Anaconda3\\envs\\learn-env\\lib\\site-packages\\keras\\backend\\tensorflow_backend.py:517: The name tf.placeholder is deprecated. Please use tf.compat.v1.placeholder instead.\n",
      "\n",
      "W0730 14:12:41.641904 11488 deprecation_wrapper.py:119] From C:\\Users\\perso\\Anaconda3\\envs\\learn-env\\lib\\site-packages\\keras\\backend\\tensorflow_backend.py:4138: The name tf.random_uniform is deprecated. Please use tf.random.uniform instead.\n",
      "\n"
     ]
    }
   ],
   "source": [
    "from keras import regularizers\n",
    "model = models.Sequential()#instantiate model design\n",
    "model.add(layers.Dense(50, activation='relu', kernel_regularizer=regularizers.l2(0.005), input_shape=(2000,))) #1st hidden layer\n",
    "model.add(layers.Dense(25,kernel_regularizer=regularizers.l2(0.005), activation='relu'))#2nd hidden layer\n",
    "model.add(layers.Dense(7, activation='softmax'))#output layer - softmax will reyurn probability between 0-1"
   ]
  },
  {
   "cell_type": "markdown",
   "metadata": {},
   "source": [
    "## Compiling the Model"
   ]
  },
  {
   "cell_type": "code",
   "execution_count": 14,
   "metadata": {},
   "outputs": [
    {
     "name": "stderr",
     "output_type": "stream",
     "text": [
      "W0730 14:12:48.297526 11488 deprecation_wrapper.py:119] From C:\\Users\\perso\\Anaconda3\\envs\\learn-env\\lib\\site-packages\\keras\\optimizers.py:790: The name tf.train.Optimizer is deprecated. Please use tf.compat.v1.train.Optimizer instead.\n",
      "\n",
      "W0730 14:12:48.328444 11488 deprecation_wrapper.py:119] From C:\\Users\\perso\\Anaconda3\\envs\\learn-env\\lib\\site-packages\\keras\\backend\\tensorflow_backend.py:3295: The name tf.log is deprecated. Please use tf.math.log instead.\n",
      "\n"
     ]
    }
   ],
   "source": [
    "model.compile(optimizer='SGD', #stochastic gradient descent\n",
    "              loss='categorical_crossentropy', #loss function\n",
    "              metrics=['accuracy']) #metric determined"
   ]
  },
  {
   "cell_type": "markdown",
   "metadata": {},
   "source": [
    "## Training the Model"
   ]
  },
  {
   "cell_type": "code",
   "execution_count": 19,
   "metadata": {},
   "outputs": [
    {
     "name": "stdout",
     "output_type": "stream",
     "text": [
      "Train on 28500 samples, validate on 10000 samples\n",
      "Epoch 1/120\n",
      "28500/28500 [==============================] - 1s 38us/step - loss: 0.5757 - acc: 0.8726 - val_loss: 0.7241 - val_acc: 0.8047\n",
      "Epoch 2/120\n",
      "28500/28500 [==============================] - 1s 37us/step - loss: 0.5735 - acc: 0.8732 - val_loss: 0.7209 - val_acc: 0.8062\n",
      "Epoch 3/120\n",
      "28500/28500 [==============================] - 1s 38us/step - loss: 0.5722 - acc: 0.8740 - val_loss: 0.7216 - val_acc: 0.8051\n",
      "Epoch 4/120\n",
      "28500/28500 [==============================] - 1s 37us/step - loss: 0.5707 - acc: 0.8745 - val_loss: 0.7218 - val_acc: 0.8077\n",
      "Epoch 5/120\n",
      "28500/28500 [==============================] - 1s 37us/step - loss: 0.5692 - acc: 0.8741 - val_loss: 0.7195 - val_acc: 0.8044\n",
      "Epoch 6/120\n",
      "28500/28500 [==============================] - 1s 36us/step - loss: 0.5678 - acc: 0.8746 - val_loss: 0.7185 - val_acc: 0.8047\n",
      "Epoch 7/120\n",
      "28500/28500 [==============================] - 1s 38us/step - loss: 0.5659 - acc: 0.8751 - val_loss: 0.7201 - val_acc: 0.8048\n",
      "Epoch 8/120\n",
      "28500/28500 [==============================] - 1s 36us/step - loss: 0.5653 - acc: 0.8744 - val_loss: 0.7164 - val_acc: 0.8064\n",
      "Epoch 9/120\n",
      "28500/28500 [==============================] - 1s 36us/step - loss: 0.5640 - acc: 0.8754 - val_loss: 0.7154 - val_acc: 0.8059\n",
      "Epoch 10/120\n",
      "28500/28500 [==============================] - 1s 36us/step - loss: 0.5622 - acc: 0.8750 - val_loss: 0.7159 - val_acc: 0.8069\n",
      "Epoch 11/120\n",
      "28500/28500 [==============================] - 1s 36us/step - loss: 0.5612 - acc: 0.8751 - val_loss: 0.7187 - val_acc: 0.8045\n",
      "Epoch 12/120\n",
      "28500/28500 [==============================] - 1s 37us/step - loss: 0.5597 - acc: 0.8772 - val_loss: 0.7139 - val_acc: 0.8052\n",
      "Epoch 13/120\n",
      "28500/28500 [==============================] - 1s 38us/step - loss: 0.5584 - acc: 0.8766 - val_loss: 0.7121 - val_acc: 0.8065\n",
      "Epoch 14/120\n",
      "28500/28500 [==============================] - 1s 38us/step - loss: 0.5574 - acc: 0.8774 - val_loss: 0.7140 - val_acc: 0.8033\n",
      "Epoch 15/120\n",
      "28500/28500 [==============================] - 1s 36us/step - loss: 0.5562 - acc: 0.8766 - val_loss: 0.7130 - val_acc: 0.8039\n",
      "Epoch 16/120\n",
      "28500/28500 [==============================] - 1s 37us/step - loss: 0.5549 - acc: 0.8768 - val_loss: 0.7151 - val_acc: 0.8034\n",
      "Epoch 17/120\n",
      "28500/28500 [==============================] - 1s 39us/step - loss: 0.5537 - acc: 0.8773 - val_loss: 0.7120 - val_acc: 0.8036\n",
      "Epoch 18/120\n",
      "28500/28500 [==============================] - 1s 36us/step - loss: 0.5524 - acc: 0.8772 - val_loss: 0.7120 - val_acc: 0.8031\n",
      "Epoch 19/120\n",
      "28500/28500 [==============================] - 1s 39us/step - loss: 0.5514 - acc: 0.8775 - val_loss: 0.7091 - val_acc: 0.8074\n",
      "Epoch 20/120\n",
      "28500/28500 [==============================] - 1s 38us/step - loss: 0.5500 - acc: 0.8770 - val_loss: 0.7107 - val_acc: 0.8071\n",
      "Epoch 21/120\n",
      "28500/28500 [==============================] - 1s 40us/step - loss: 0.5494 - acc: 0.8766 - val_loss: 0.7093 - val_acc: 0.8039\n",
      "Epoch 22/120\n",
      "28500/28500 [==============================] - 1s 39us/step - loss: 0.5480 - acc: 0.8782 - val_loss: 0.7077 - val_acc: 0.8057\n",
      "Epoch 23/120\n",
      "28500/28500 [==============================] - 1s 38us/step - loss: 0.5469 - acc: 0.8788 - val_loss: 0.7070 - val_acc: 0.8068\n",
      "Epoch 24/120\n",
      "28500/28500 [==============================] - 1s 38us/step - loss: 0.5458 - acc: 0.8786 - val_loss: 0.7116 - val_acc: 0.8032\n",
      "Epoch 25/120\n",
      "28500/28500 [==============================] - 1s 34us/step - loss: 0.5455 - acc: 0.8786 - val_loss: 0.7071 - val_acc: 0.8066\n",
      "Epoch 26/120\n",
      "28500/28500 [==============================] - 1s 37us/step - loss: 0.5441 - acc: 0.8794 - val_loss: 0.7069 - val_acc: 0.8053\n",
      "Epoch 27/120\n",
      "28500/28500 [==============================] - 1s 36us/step - loss: 0.5428 - acc: 0.8787 - val_loss: 0.7111 - val_acc: 0.8056\n",
      "Epoch 28/120\n",
      "28500/28500 [==============================] - 1s 34us/step - loss: 0.5419 - acc: 0.8784 - val_loss: 0.7075 - val_acc: 0.8032\n",
      "Epoch 29/120\n",
      "28500/28500 [==============================] - 1s 33us/step - loss: 0.5409 - acc: 0.8794 - val_loss: 0.7053 - val_acc: 0.8053\n",
      "Epoch 30/120\n",
      "28500/28500 [==============================] - 1s 33us/step - loss: 0.5403 - acc: 0.8804 - val_loss: 0.7049 - val_acc: 0.8073\n",
      "Epoch 31/120\n",
      "28500/28500 [==============================] - 1s 33us/step - loss: 0.5391 - acc: 0.8805 - val_loss: 0.7067 - val_acc: 0.8045\n",
      "Epoch 32/120\n",
      "28500/28500 [==============================] - 1s 33us/step - loss: 0.5381 - acc: 0.8804 - val_loss: 0.7036 - val_acc: 0.8044\n",
      "Epoch 33/120\n",
      "28500/28500 [==============================] - 1s 34us/step - loss: 0.5373 - acc: 0.8806 - val_loss: 0.7104 - val_acc: 0.8040\n",
      "Epoch 34/120\n",
      "28500/28500 [==============================] - 1s 33us/step - loss: 0.5364 - acc: 0.8812 - val_loss: 0.7051 - val_acc: 0.8045\n",
      "Epoch 35/120\n",
      "28500/28500 [==============================] - 1s 34us/step - loss: 0.5355 - acc: 0.8808 - val_loss: 0.7072 - val_acc: 0.8050\n",
      "Epoch 36/120\n",
      "28500/28500 [==============================] - 1s 34us/step - loss: 0.5343 - acc: 0.8800 - val_loss: 0.7026 - val_acc: 0.8078\n",
      "Epoch 37/120\n",
      "28500/28500 [==============================] - 1s 35us/step - loss: 0.5336 - acc: 0.8805 - val_loss: 0.7077 - val_acc: 0.8033\n",
      "Epoch 38/120\n",
      "28500/28500 [==============================] - 1s 34us/step - loss: 0.5331 - acc: 0.8809 - val_loss: 0.7066 - val_acc: 0.8053\n",
      "Epoch 39/120\n",
      "28500/28500 [==============================] - 1s 35us/step - loss: 0.5320 - acc: 0.8800 - val_loss: 0.7014 - val_acc: 0.8046\n",
      "Epoch 40/120\n",
      "28500/28500 [==============================] - 1s 40us/step - loss: 0.5307 - acc: 0.8823 - val_loss: 0.7016 - val_acc: 0.8039\n",
      "Epoch 41/120\n",
      "28500/28500 [==============================] - 1s 38us/step - loss: 0.5304 - acc: 0.8818 - val_loss: 0.7033 - val_acc: 0.8026\n",
      "Epoch 42/120\n",
      "28500/28500 [==============================] - 1s 40us/step - loss: 0.5295 - acc: 0.8811 - val_loss: 0.7009 - val_acc: 0.8063\n",
      "Epoch 43/120\n",
      "28500/28500 [==============================] - 1s 39us/step - loss: 0.5288 - acc: 0.8826 - val_loss: 0.6999 - val_acc: 0.8071\n",
      "Epoch 44/120\n",
      "28500/28500 [==============================] - 1s 37us/step - loss: 0.5275 - acc: 0.8818 - val_loss: 0.7071 - val_acc: 0.8035\n",
      "Epoch 45/120\n",
      "28500/28500 [==============================] - 1s 38us/step - loss: 0.5269 - acc: 0.8828 - val_loss: 0.6994 - val_acc: 0.8063\n",
      "Epoch 46/120\n",
      "28500/28500 [==============================] - 1s 39us/step - loss: 0.5264 - acc: 0.8817 - val_loss: 0.7046 - val_acc: 0.8031\n",
      "Epoch 47/120\n",
      "28500/28500 [==============================] - 1s 38us/step - loss: 0.5253 - acc: 0.8820 - val_loss: 0.6989 - val_acc: 0.8055\n",
      "Epoch 48/120\n",
      "28500/28500 [==============================] - 1s 38us/step - loss: 0.5246 - acc: 0.8829 - val_loss: 0.6999 - val_acc: 0.8070\n",
      "Epoch 49/120\n",
      "28500/28500 [==============================] - 1s 38us/step - loss: 0.5241 - acc: 0.8839 - val_loss: 0.6994 - val_acc: 0.8049\n",
      "Epoch 50/120\n",
      "28500/28500 [==============================] - 1s 37us/step - loss: 0.5228 - acc: 0.8832 - val_loss: 0.7001 - val_acc: 0.8048\n",
      "Epoch 51/120\n",
      "28500/28500 [==============================] - 1s 37us/step - loss: 0.5226 - acc: 0.8840 - val_loss: 0.7004 - val_acc: 0.8022\n",
      "Epoch 52/120\n",
      "28500/28500 [==============================] - 1s 37us/step - loss: 0.5216 - acc: 0.8840 - val_loss: 0.7014 - val_acc: 0.8052\n",
      "Epoch 53/120\n",
      "28500/28500 [==============================] - 1s 37us/step - loss: 0.5210 - acc: 0.8831 - val_loss: 0.7051 - val_acc: 0.8012\n",
      "Epoch 54/120\n",
      "28500/28500 [==============================] - 1s 37us/step - loss: 0.5203 - acc: 0.8830 - val_loss: 0.7023 - val_acc: 0.8035\n",
      "Epoch 55/120\n",
      "28500/28500 [==============================] - 1s 37us/step - loss: 0.5198 - acc: 0.8827 - val_loss: 0.6971 - val_acc: 0.8057\n",
      "Epoch 56/120\n",
      "28500/28500 [==============================] - 1s 39us/step - loss: 0.5192 - acc: 0.8839 - val_loss: 0.7023 - val_acc: 0.8011\n",
      "Epoch 57/120\n",
      "28500/28500 [==============================] - 1s 39us/step - loss: 0.5183 - acc: 0.8843 - val_loss: 0.6987 - val_acc: 0.8066\n",
      "Epoch 58/120\n",
      "28500/28500 [==============================] - 1s 39us/step - loss: 0.5175 - acc: 0.8845 - val_loss: 0.6982 - val_acc: 0.8064\n",
      "Epoch 59/120\n"
     ]
    },
    {
     "name": "stdout",
     "output_type": "stream",
     "text": [
      "28500/28500 [==============================] - 1s 37us/step - loss: 0.5173 - acc: 0.8848 - val_loss: 0.6983 - val_acc: 0.8050\n",
      "Epoch 60/120\n",
      "28500/28500 [==============================] - 1s 36us/step - loss: 0.5166 - acc: 0.8844 - val_loss: 0.6987 - val_acc: 0.8058\n",
      "Epoch 61/120\n",
      "28500/28500 [==============================] - 1s 37us/step - loss: 0.5160 - acc: 0.8840 - val_loss: 0.6995 - val_acc: 0.8053\n",
      "Epoch 62/120\n",
      "28500/28500 [==============================] - 1s 37us/step - loss: 0.5156 - acc: 0.8843 - val_loss: 0.6965 - val_acc: 0.8043\n",
      "Epoch 63/120\n",
      "28500/28500 [==============================] - 1s 36us/step - loss: 0.5145 - acc: 0.8844 - val_loss: 0.6984 - val_acc: 0.8052\n",
      "Epoch 64/120\n",
      "28500/28500 [==============================] - 1s 36us/step - loss: 0.5142 - acc: 0.8847 - val_loss: 0.6963 - val_acc: 0.8059\n",
      "Epoch 65/120\n",
      "28500/28500 [==============================] - 1s 35us/step - loss: 0.5134 - acc: 0.8859 - val_loss: 0.6986 - val_acc: 0.8023\n",
      "Epoch 66/120\n",
      "28500/28500 [==============================] - 1s 37us/step - loss: 0.5128 - acc: 0.8857 - val_loss: 0.6971 - val_acc: 0.8048\n",
      "Epoch 67/120\n",
      "28500/28500 [==============================] - 1s 36us/step - loss: 0.5123 - acc: 0.8848 - val_loss: 0.6989 - val_acc: 0.8033\n",
      "Epoch 68/120\n",
      "28500/28500 [==============================] - 1s 36us/step - loss: 0.5116 - acc: 0.8861 - val_loss: 0.6979 - val_acc: 0.8058\n",
      "Epoch 69/120\n",
      "28500/28500 [==============================] - 1s 35us/step - loss: 0.5114 - acc: 0.8855 - val_loss: 0.6991 - val_acc: 0.8047\n",
      "Epoch 70/120\n",
      "28500/28500 [==============================] - 1s 36us/step - loss: 0.5106 - acc: 0.8865 - val_loss: 0.6979 - val_acc: 0.8026\n",
      "Epoch 71/120\n",
      "28500/28500 [==============================] - 1s 35us/step - loss: 0.5098 - acc: 0.8862 - val_loss: 0.6958 - val_acc: 0.8037\n",
      "Epoch 72/120\n",
      "28500/28500 [==============================] - 1s 36us/step - loss: 0.5094 - acc: 0.8860 - val_loss: 0.6980 - val_acc: 0.8021\n",
      "Epoch 73/120\n",
      "28500/28500 [==============================] - 1s 36us/step - loss: 0.5087 - acc: 0.8848 - val_loss: 0.7044 - val_acc: 0.8017\n",
      "Epoch 74/120\n",
      "28500/28500 [==============================] - 1s 36us/step - loss: 0.5080 - acc: 0.8870 - val_loss: 0.6959 - val_acc: 0.8073\n",
      "Epoch 75/120\n",
      "28500/28500 [==============================] - 1s 36us/step - loss: 0.5078 - acc: 0.8858 - val_loss: 0.6995 - val_acc: 0.8039\n",
      "Epoch 76/120\n",
      "28500/28500 [==============================] - 1s 36us/step - loss: 0.5072 - acc: 0.8862 - val_loss: 0.7008 - val_acc: 0.8059\n",
      "Epoch 77/120\n",
      "28500/28500 [==============================] - 1s 36us/step - loss: 0.5066 - acc: 0.8861 - val_loss: 0.6957 - val_acc: 0.8039\n",
      "Epoch 78/120\n",
      "28500/28500 [==============================] - 1s 36us/step - loss: 0.5060 - acc: 0.8865 - val_loss: 0.6972 - val_acc: 0.8038\n",
      "Epoch 79/120\n",
      "28500/28500 [==============================] - 1s 36us/step - loss: 0.5054 - acc: 0.8866 - val_loss: 0.6988 - val_acc: 0.8041\n",
      "Epoch 80/120\n",
      "28500/28500 [==============================] - 1s 37us/step - loss: 0.5051 - acc: 0.8871 - val_loss: 0.7022 - val_acc: 0.8039\n",
      "Epoch 81/120\n",
      "28500/28500 [==============================] - 1s 36us/step - loss: 0.5046 - acc: 0.8875 - val_loss: 0.6996 - val_acc: 0.8019\n",
      "Epoch 82/120\n",
      "28500/28500 [==============================] - 1s 36us/step - loss: 0.5041 - acc: 0.8873 - val_loss: 0.6969 - val_acc: 0.8063\n",
      "Epoch 83/120\n",
      "28500/28500 [==============================] - 1s 37us/step - loss: 0.5035 - acc: 0.8869 - val_loss: 0.6941 - val_acc: 0.8039\n",
      "Epoch 84/120\n",
      "28500/28500 [==============================] - 1s 37us/step - loss: 0.5028 - acc: 0.8878 - val_loss: 0.6957 - val_acc: 0.8051\n",
      "Epoch 85/120\n",
      "28500/28500 [==============================] - 1s 36us/step - loss: 0.5022 - acc: 0.8879 - val_loss: 0.6998 - val_acc: 0.8016\n",
      "Epoch 86/120\n",
      "28500/28500 [==============================] - 1s 37us/step - loss: 0.5019 - acc: 0.8873 - val_loss: 0.7027 - val_acc: 0.8028\n",
      "Epoch 87/120\n",
      "28500/28500 [==============================] - 1s 36us/step - loss: 0.5014 - acc: 0.8872 - val_loss: 0.7012 - val_acc: 0.8022\n",
      "Epoch 88/120\n",
      "28500/28500 [==============================] - 1s 37us/step - loss: 0.5010 - acc: 0.8874 - val_loss: 0.6973 - val_acc: 0.8061\n",
      "Epoch 89/120\n",
      "28500/28500 [==============================] - 1s 36us/step - loss: 0.5005 - acc: 0.8876 - val_loss: 0.6938 - val_acc: 0.8069\n",
      "Epoch 90/120\n",
      "28500/28500 [==============================] - 1s 37us/step - loss: 0.5000 - acc: 0.8883 - val_loss: 0.6949 - val_acc: 0.8050\n",
      "Epoch 91/120\n",
      "28500/28500 [==============================] - 1s 37us/step - loss: 0.4997 - acc: 0.8879 - val_loss: 0.6944 - val_acc: 0.8042\n",
      "Epoch 92/120\n",
      "28500/28500 [==============================] - 1s 37us/step - loss: 0.4994 - acc: 0.8888 - val_loss: 0.6946 - val_acc: 0.8043\n",
      "Epoch 93/120\n",
      "28500/28500 [==============================] - 1s 37us/step - loss: 0.4990 - acc: 0.8875 - val_loss: 0.6972 - val_acc: 0.8024\n",
      "Epoch 94/120\n",
      "28500/28500 [==============================] - 1s 37us/step - loss: 0.4983 - acc: 0.8882 - val_loss: 0.6959 - val_acc: 0.8047\n",
      "Epoch 95/120\n",
      "28500/28500 [==============================] - 1s 37us/step - loss: 0.4980 - acc: 0.8892 - val_loss: 0.6935 - val_acc: 0.8058\n",
      "Epoch 96/120\n",
      "28500/28500 [==============================] - 1s 36us/step - loss: 0.4976 - acc: 0.8901 - val_loss: 0.6949 - val_acc: 0.8058\n",
      "Epoch 97/120\n",
      "28500/28500 [==============================] - 1s 37us/step - loss: 0.4970 - acc: 0.8879 - val_loss: 0.6946 - val_acc: 0.8026\n",
      "Epoch 98/120\n",
      "28500/28500 [==============================] - 1s 36us/step - loss: 0.4964 - acc: 0.8897 - val_loss: 0.6931 - val_acc: 0.8049\n",
      "Epoch 99/120\n",
      "28500/28500 [==============================] - 1s 37us/step - loss: 0.4964 - acc: 0.8884 - val_loss: 0.6973 - val_acc: 0.8031\n",
      "Epoch 100/120\n",
      "28500/28500 [==============================] - 1s 37us/step - loss: 0.4955 - acc: 0.8884 - val_loss: 0.6983 - val_acc: 0.8006\n",
      "Epoch 101/120\n",
      "28500/28500 [==============================] - 1s 37us/step - loss: 0.4950 - acc: 0.8889 - val_loss: 0.6974 - val_acc: 0.8025\n",
      "Epoch 102/120\n",
      "28500/28500 [==============================] - 1s 37us/step - loss: 0.4944 - acc: 0.8887 - val_loss: 0.6968 - val_acc: 0.8034\n",
      "Epoch 103/120\n",
      "28500/28500 [==============================] - 1s 38us/step - loss: 0.4941 - acc: 0.8886 - val_loss: 0.6935 - val_acc: 0.8038\n",
      "Epoch 104/120\n",
      "28500/28500 [==============================] - 1s 38us/step - loss: 0.4941 - acc: 0.8894 - val_loss: 0.7004 - val_acc: 0.8012\n",
      "Epoch 105/120\n",
      "28500/28500 [==============================] - 1s 37us/step - loss: 0.4936 - acc: 0.8894 - val_loss: 0.6947 - val_acc: 0.8023\n",
      "Epoch 106/120\n",
      "28500/28500 [==============================] - 1s 37us/step - loss: 0.4927 - acc: 0.8900 - val_loss: 0.6969 - val_acc: 0.8031\n",
      "Epoch 107/120\n",
      "28500/28500 [==============================] - 1s 37us/step - loss: 0.4928 - acc: 0.8912 - val_loss: 0.6959 - val_acc: 0.8044\n",
      "Epoch 108/120\n",
      "28500/28500 [==============================] - 1s 38us/step - loss: 0.4924 - acc: 0.8905 - val_loss: 0.7056 - val_acc: 0.8002\n",
      "Epoch 109/120\n",
      "28500/28500 [==============================] - 1s 37us/step - loss: 0.4919 - acc: 0.8898 - val_loss: 0.6968 - val_acc: 0.8044\n",
      "Epoch 110/120\n",
      "28500/28500 [==============================] - 1s 37us/step - loss: 0.4916 - acc: 0.8908 - val_loss: 0.6951 - val_acc: 0.8045\n",
      "Epoch 111/120\n",
      "28500/28500 [==============================] - 1s 37us/step - loss: 0.4910 - acc: 0.8903 - val_loss: 0.6950 - val_acc: 0.8050\n",
      "Epoch 112/120\n",
      "28500/28500 [==============================] - 1s 37us/step - loss: 0.4908 - acc: 0.8908 - val_loss: 0.6950 - val_acc: 0.8044\n",
      "Epoch 113/120\n",
      "28500/28500 [==============================] - 1s 37us/step - loss: 0.4907 - acc: 0.8916 - val_loss: 0.7059 - val_acc: 0.8004\n",
      "Epoch 114/120\n",
      "28500/28500 [==============================] - 1s 38us/step - loss: 0.4900 - acc: 0.8909 - val_loss: 0.6954 - val_acc: 0.8019\n",
      "Epoch 115/120\n",
      "28500/28500 [==============================] - 1s 37us/step - loss: 0.4896 - acc: 0.8913 - val_loss: 0.6942 - val_acc: 0.8032\n",
      "Epoch 116/120\n",
      "28500/28500 [==============================] - 1s 38us/step - loss: 0.4892 - acc: 0.8906 - val_loss: 0.6958 - val_acc: 0.8048\n",
      "Epoch 117/120\n",
      "28500/28500 [==============================] - 1s 38us/step - loss: 0.4888 - acc: 0.8913 - val_loss: 0.6932 - val_acc: 0.8037\n"
     ]
    },
    {
     "name": "stdout",
     "output_type": "stream",
     "text": [
      "Epoch 118/120\n",
      "28500/28500 [==============================] - 1s 36us/step - loss: 0.4886 - acc: 0.8913 - val_loss: 0.6987 - val_acc: 0.8012\n",
      "Epoch 119/120\n",
      "28500/28500 [==============================] - 1s 36us/step - loss: 0.4881 - acc: 0.8909 - val_loss: 0.6962 - val_acc: 0.8025\n",
      "Epoch 120/120\n",
      "28500/28500 [==============================] - 1s 36us/step - loss: 0.4878 - acc: 0.8915 - val_loss: 0.6950 - val_acc: 0.8031\n"
     ]
    }
   ],
   "source": [
    "L2_model = model.fit(train_final,\n",
    "                    label_train_final,\n",
    "                    epochs=120,\n",
    "                    batch_size=256,\n",
    "                    validation_data=(val, label_val))"
   ]
  },
  {
   "cell_type": "markdown",
   "metadata": {},
   "source": [
    "### Look at History"
   ]
  },
  {
   "cell_type": "code",
   "execution_count": 20,
   "metadata": {},
   "outputs": [
    {
     "data": {
      "text/plain": [
       "dict_keys(['val_loss', 'val_acc', 'loss', 'acc'])"
      ]
     },
     "execution_count": 20,
     "metadata": {},
     "output_type": "execute_result"
    }
   ],
   "source": [
    "L2_model_dict = L2_model.history\n",
    "L2_model_dict.keys()"
   ]
  },
  {
   "cell_type": "markdown",
   "metadata": {},
   "source": [
    "## Plot results"
   ]
  },
  {
   "cell_type": "code",
   "execution_count": 21,
   "metadata": {},
   "outputs": [
    {
     "data": {
      "image/png": "[encoded data removed]",
      "text/plain": [
       "<Figure size 432x288 with 1 Axes>"
      ]
     },
     "metadata": {
      "needs_background": "light"
     },
     "output_type": "display_data"
    }
   ],
   "source": [
    "#training/validation loss\n",
    "plt.clf()\n",
    "\n",
    "import matplotlib.pyplot as plt\n",
    "loss_values = L2_model_dict['loss']\n",
    "val_loss_values = L2_model_dict['val_loss']\n",
    "\n",
    "epochs = range(1, len(loss_values) + 1)\n",
    "plt.plot(epochs, loss_values, 'g', label='Training loss')\n",
    "plt.plot(epochs, val_loss_values, 'blue', label='Validation loss')\n",
    "\n",
    "plt.title('Training & validation loss')\n",
    "plt.xlabel('Epochs')\n",
    "plt.ylabel('Loss')\n",
    "plt.legend()\n",
    "plt.show()"
   ]
  },
  {
   "cell_type": "code",
   "execution_count": 22,
   "metadata": {},
   "outputs": [
    {
     "data": {
      "image/png": "[encoded data removed]",
      "text/plain": [
       "<Figure size 432x288 with 1 Axes>"
      ]
     },
     "metadata": {
      "needs_background": "light"
     },
     "output_type": "display_data"
    }
   ],
   "source": [
    "plt.clf()\n",
    "\n",
    "acc_values = L2_model_dict['acc'] \n",
    "val_acc_values = L2_model_dict['val_acc']\n",
    "\n",
    "plt.plot(epochs, acc_values, 'r', label='Training acc')\n",
    "plt.plot(epochs, val_acc_values, 'blue', label='Validation acc')\n",
    "plt.title('Training & validation accuracy')\n",
    "plt.xlabel('Epochs')\n",
    "plt.ylabel('Loss')\n",
    "plt.legend()\n",
    "plt.show()"
   ]
  },
  {
   "cell_type": "markdown",
   "metadata": {},
   "source": [
    "## Make predictions"
   ]
  },
  {
   "cell_type": "code",
   "execution_count": 23,
   "metadata": {},
   "outputs": [],
   "source": [
    "y_hat_test = model.predict(X_test) #Output (probability) predictions for the test set."
   ]
  },
  {
   "cell_type": "markdown",
   "metadata": {},
   "source": [
    "## Evaluate Performance"
   ]
  },
  {
   "cell_type": "code",
   "execution_count": 24,
   "metadata": {},
   "outputs": [
    {
     "name": "stdout",
     "output_type": "stream",
     "text": [
      "1500/1500 [==============================] - 0s 33us/step\n"
     ]
    },
    {
     "data": {
      "text/plain": [
       "[0.7111668507258098, 0.7973333331743876]"
      ]
     },
     "execution_count": 24,
     "metadata": {},
     "output_type": "execute_result"
    }
   ],
   "source": [
    "results_test = model.evaluate(X_test, y_test)\n",
    "results_test"
   ]
  },
  {
   "cell_type": "markdown",
   "metadata": {},
   "source": [
    "## Results\n",
    "\n",
    "The model provided was able to predict the test set with ~80% accuracy. "
   ]
  }
 ],
 "metadata": {
  "kernelspec": {
   "display_name": "learn-env",
   "language": "python",
   "name": "learn-env"
  },
  "language_info": {
   "codemirror_mode": {
    "name": "ipython",
    "version": 3
   },
   "file_extension": ".py",
   "mimetype": "text/x-python",
   "name": "python",
   "nbconvert_exporter": "python",
   "pygments_lexer": "ipython3",
   "version": "3.6.6"
  },
  "toc": {
   "base_numbering": 1,
   "nav_menu": {},
   "number_sections": true,
   "sideBar": true,
   "skip_h1_title": false,
   "title_cell": "Table of Contents",
   "title_sidebar": "Contents",
   "toc_cell": false,
   "toc_position": {},
   "toc_section_display": true,
   "toc_window_display": true
  }
 },
 "nbformat": 4,
 "nbformat_minor": 2
}
